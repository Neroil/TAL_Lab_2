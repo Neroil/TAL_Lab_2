{
 "cells": [
  {
   "cell_type": "markdown",
   "metadata": {},
   "source": [
    "<img src=\"https://heig-vd.ch/docs/default-source/doc-global-newsletter/2020-slim.svg\" alt=\"HEIG-VD Logo\" width=\"100\" align=\"right\" /> \n",
    "\n",
    "# Cours TAL - Laboratoire 2<br/>*POS taggers* pour le français dans spaCy et NLTK\n",
    "\n",
    "**Objectif**\n",
    "\n",
    "Comparer l'étiqueteur morphosyntaxique français prêt-à-l'emploi de spaCy avec deux étiqueteurs entraînés, l'un dans spaCy et l'autre dans NLTK."
   ]
  },
  {
   "cell_type": "markdown",
   "metadata": {},
   "source": [
    "## 1. Installation et test de spaCy\n",
    "\n",
    "La boîte à outils spaCy est une librairie Python *open source* pour le TAL, dédiée à un usage en production. Les documents suivants vous seront utiles :\n",
    "* comment [installer](https://spacy.io/usage) spaCy\n",
    "* comment [télécharger un modèle](https://spacy.io/usage/models) pour une langue donnée (on appelle ces modèles des *trained pipelines* car ils enchaînent plusieurs traitements)\n",
    "* comment faire les [premiers pas](https://spacy.io/usage/spacy-101) dans l'utilisation de spaCy\n",
    "\n",
    "Veuillez installer spaCy, puis la *pipeline* pour le français appelée `fr_core_news_sm`.  Si vous utilisez *conda*, installez spaCy dans l'environnement du cours TAL."
   ]
  },
  {
   "cell_type": "code",
   "execution_count": 101,
   "metadata": {},
   "outputs": [],
   "source": [
    "import spacy\n",
    "import tqdm # permet l'affichage d'une barre de progression"
   ]
  },
  {
   "cell_type": "markdown",
   "metadata": {},
   "source": [
    "**1a.** Une pipeline effectue un ensemble de traitements d'un texte en lui ajoutant des annotations.  Les traitements effectués par la pipeline `fr_core_news_sm` sont [documentés ici](https://spacy.io/models/fr#fr_core_news_sm).  La liste des traitements d'une pipeline figure dans son attribut `.pipe_names`.  On peut activer ou désactiver un traitement T avec, respectivement, les méthodes `.disable_pipe(T)` et `.enable_pipe(T)` appliquées à la pipeline.\n",
    "\n",
    "* Veuillez afficher les traitements disponibles dans la pipeline `fr_core_news_sm` chargée ci-dessus sous le nom de `nlp` .\n",
    "* Veuillez désactiver tous les traitements sauf `tok2vec` et `morphologizer` (on fait cela pour accélerer le traitement).\n",
    "* Vérifiez que la désactivation a bien fonctionné en affichant les traitements activés."
   ]
  },
  {
   "cell_type": "code",
   "execution_count": null,
   "metadata": {},
   "outputs": [
    {
     "name": "stdout",
     "output_type": "stream",
     "text": [
      "Tous les traitements : \n",
      "tok2vec\n",
      "morphologizer\n",
      "parser\n",
      "attribute_ruler\n",
      "lemmatizer\n",
      "ner\n",
      "Tous les traitements activés :\n",
      "tok2vec\n",
      "morphologizer\n"
     ]
    }
   ],
   "source": [
    "# Veuillez écrire votre code ici.\n",
    "nlp = spacy.load(\"fr_core_news_sm\") # charge la pipeline\n",
    "\n",
    "traitements = nlp.pipe_names\n",
    "print(\"Tous les traitements : \")\n",
    "for t in traitements:\n",
    "    print(t)\n",
    "    match t:\n",
    "        case \"tok2vec\":\n",
    "            pass  \n",
    "        case \"morphologizer\":\n",
    "            pass\n",
    "        case _:\n",
    "            nlp.disable_pipe(t)\n",
    "\n",
    "traitements = nlp.pipe_names\n",
    "print(\"Tous les traitements activés :\")\n",
    "for t in traitements:\n",
    "    print(t)\n"
   ]
  },
  {
   "cell_type": "code",
   "execution_count": 103,
   "metadata": {},
   "outputs": [],
   "source": [
    "from spacy.lang.fr.examples import sentences"
   ]
  },
  {
   "cell_type": "markdown",
   "metadata": {},
   "source": [
    "**1b.** L'objet `sentences` chargé ci-dessus contient une liste de phrases en français. \n",
    "\n",
    "* Veuillez afficher les deux premières phrases de `sentences`.\n",
    "* Veuillez analyser chacune de ces deux phrases avec la pipeline `nlp` puis afficher chaque token et son POS tag.\n",
    "    * indication : aidez-vous de la [documentation](https://spacy.io/models/fr#fr_core_news_sm) de `fr_core_news_sm`\n",
    "    * consigne d'affichage : indiquer le tag entre crochets après chaque token, comme ceci : Les \\[DET\\] robots \\[NOUN\\] ...\n",
    "    * note : la documentation détaillée du POS tagging dans spaCy est [disponible ici](https://spacy.io/usage/linguistic-features)\n",
    "* Veuillez commenter la tokenisation et les POS tags observés : vous semblent-ils corrects pour les deux phrases ?"
   ]
  },
  {
   "cell_type": "code",
   "execution_count": 104,
   "metadata": {},
   "outputs": [
    {
     "name": "stdout",
     "output_type": "stream",
     "text": [
      "Apple cherche à acheter une start-up anglaise pour 1 milliard de dollars\n",
      "Les voitures autonomes déplacent la responsabilité de l'assurance vers les constructeurs\n",
      "Apple [NOUN]\n",
      "cherche [NOUN]\n",
      "à [ADP]\n",
      "acheter [VERB]\n",
      "une [DET]\n",
      "start [NOUN]\n",
      "- [NOUN]\n",
      "up [ADJ]\n",
      "anglaise [NOUN]\n",
      "pour [ADP]\n",
      "1 [NUM]\n",
      "milliard [NOUN]\n",
      "de [ADP]\n",
      "dollars [NOUN]\n",
      "Les [DET]\n",
      "voitures [NOUN]\n",
      "autonomes [ADJ]\n",
      "déplacent [ADV]\n",
      "la [DET]\n",
      "responsabilité [NOUN]\n",
      "de [ADP]\n",
      "l' [DET]\n",
      "assurance [NOUN]\n",
      "vers [ADP]\n",
      "les [DET]\n",
      "constructeurs [NOUN]\n"
     ]
    }
   ],
   "source": [
    "# Veuillez écrire votre code et votre commentaire ici.\n",
    "# Afficher les deux premières phrases de `sentences`\n",
    "\n",
    "doc1 = nlp(sentences[0])\n",
    "print(doc1)\n",
    "doc2 = nlp(sentences[1])\n",
    "print(doc2)\n",
    "\n",
    "docs = [doc1,doc2]\n",
    "\n",
    "for doc in docs :\n",
    "    for token in doc:\n",
    "        print(f\"{token.text} [{token.pos_}]\")\n",
    "        \n",
    "#cherche est considéré comme nom, start-up devrait être un mot simple, donc up n'est pas un adjectif.\n",
    "#Il y a encore anglaise qui devrait être un adjectif pour start-up. Et finalement déplacent n'est pas un adverbe mais un verbe conjugué\n",
    "#Sinon je trouve pas d'autres erreurs, on obtient alors un pourcentage d'accuracy de 20/26 donc pas super... (à vérifier)\n",
    "\n",
    "\n",
    "\n"
   ]
  },
  {
   "cell_type": "markdown",
   "metadata": {},
   "source": [
    "## 2. Prise en main des données\n",
    "\n",
    "Les données sont fournies dans un format tabulaire dans l'archive `UD_French-GSD.zip` sur Cyberlearn.  Elles sont basées sur les données fournies par le projet [Universal Dependencies](https://github.com/UniversalDependencies/UD_French-GSD).  Leur format, appelé CoNLL-U, est [documenté ici](https://universaldependencies.org/format.html).  Veuillez placer les trois fichiers contenus dans l'archive dans un sous-dossier de ce notebook nommé `spacy_data`.\n",
    "\n",
    "Les trois fichiers contiennent des phrases en français annotées avec les POS tags :\n",
    "* le fichier `fr-ud-train.conllu` est destiné à l'entraînement\n",
    "* le fichier `fr-ud-dev.conllu` est destiné aux tests préliminaires et aux réglages des paramètres\n",
    "* le fichier `fr-ud-test.conllu` est destiné à l'évaluation finale.\n",
    "\n",
    "**2a.** En inspectant les fichiers avec un éditeur texte, veuillez déterminer dans quelle colonne se trouvent les *tokens* des textes originaux, et dans quelle colonne se trouvent leurs étiquettes morpho-syntaxiques correctes (*POS tags*).  Que contient la troisième colonne ?"
   ]
  },
  {
   "cell_type": "code",
   "execution_count": 105,
   "metadata": {},
   "outputs": [],
   "source": [
    "# Veuillez écrire vos réponses dans cette cellule.\n",
    "# Les tokens se trouvent dans la colonne numéro 2\n",
    "# Les POS tags sont dans la colonne 4 et la colonne 3 indique le token après lemming"
   ]
  },
  {
   "attachments": {},
   "cell_type": "markdown",
   "metadata": {},
   "source": [
    "**2b.** Veuillez convertir les trois fichiers de données en des fichiers binaires utilisables par spaCy, en utilisant la [commande 'convert' fournie par spaCy](https://spacy.io/api/cli#convert).  La commande est donnée ci-dessous, le premier dossier `./input_data` contient les 3 fichiers `.conllu` et le dossier `./spacy-data` contiendra les 3 résultats.\n",
    "\n",
    "* Veuillez exécuter la commande de conversion.\n",
    "* Combien de phrases environ (à 10 phrases près) contient chaque fichier (*train*, *dev*, *test*) ?  Observez la commande et son résultat pour répondre."
   ]
  },
  {
   "cell_type": "code",
   "execution_count": 106,
   "metadata": {},
   "outputs": [
    {
     "name": "stdout",
     "output_type": "stream",
     "text": [
      "\u001b[38;5;4mℹ Grouping every 10 sentences into a document.\u001b[0m\n",
      "\u001b[38;5;2m✔ Generated output file (148 documents): spacy_data\\fr-ud-dev.spacy\u001b[0m\n",
      "\u001b[38;5;4mℹ Grouping every 10 sentences into a document.\u001b[0m\n",
      "\u001b[38;5;2m✔ Generated output file (42 documents): spacy_data\\fr-ud-test.spacy\u001b[0m\n",
      "\u001b[38;5;4mℹ Grouping every 10 sentences into a document.\u001b[0m\n",
      "\u001b[38;5;2m✔ Generated output file (1456 documents):\n",
      "spacy_data\\fr-ud-train.spacy\u001b[0m\n"
     ]
    }
   ],
   "source": [
    "!python -m spacy convert ./input_data ./spacy_data --converter conllu  --n-sents 10 --lang fr"
   ]
  },
  {
   "cell_type": "code",
   "execution_count": 107,
   "metadata": {},
   "outputs": [],
   "source": [
    "# Veuillez indiquer les nombres de phrases ici.\n",
    "# Je pense qu'il y a 1480 phrases pour le dev\n",
    "# 420 phrases pour le test et 14560 phrases pour le train"
   ]
  },
  {
   "cell_type": "markdown",
   "metadata": {},
   "source": [
    "**2c**. Les données des fichiers convertis peuvent être chargées dans un objet de type `DocBin`.  Dans notre cas, un tel objet contient un ensemble de documents, chacun contenant 10 phrases.  Chaque document est un objet de type `Doc`.  Le code donné ci-dessous vous permet de charger les données de test et vous montre comment les afficher.\n",
    "\n",
    "* Veuillez stocker la première phrase des données de test dans une variable nommée `premiere_phrase_test`.\n",
    "* Veuillez afficher cette phrase, ainsi que son type dans spaCy."
   ]
  },
  {
   "cell_type": "code",
   "execution_count": 108,
   "metadata": {},
   "outputs": [],
   "source": [
    "from spacy.tokens import DocBin\n",
    "from spacy.tokens import Doc\n",
    "test_data = DocBin().from_disk(\"./spacy_data/fr-ud-test.spacy\")\n",
    "# Exemple d'utilisation (afficher toutes les phrases)\n",
    "# for doc in test_data.get_docs(nlp.vocab): \n",
    "#     for sent in doc.sents:\n",
    "#         print(sent)"
   ]
  },
  {
   "cell_type": "code",
   "execution_count": 109,
   "metadata": {},
   "outputs": [
    {
     "name": "stdout",
     "output_type": "stream",
     "text": [
      "Je sens qu'entre ça et les films de médecins et scientifiques fous que nous avons déjà vus, nous pourrions emprunter un autre chemin pour l'origine.\n",
      "<class 'spacy.tokens.span.Span'>\n"
     ]
    }
   ],
   "source": [
    "# Veuillez écrire votre code ici.\n",
    "premiere_phrase_test = next(next(test_data.get_docs(nlp.vocab)).sents)\n",
    "\n",
    "print(premiere_phrase_test)\n",
    "print(type(premiere_phrase_test))\n"
   ]
  },
  {
   "cell_type": "markdown",
   "metadata": {},
   "source": [
    "## 3. Évaluation du POS tagger français de la pipeline `fr_core_news_sm`"
   ]
  },
  {
   "cell_type": "markdown",
   "metadata": {},
   "source": [
    "**3a.** Veuillez effectuer le *POS tagging* avec spaCy de la `premiere_phrase_test` et afficher les résultats dans le format demandé au (1b).  Indication : convertissez la `premiere_phrase_test` dans un objet de type `Doc` en lui appliquant la méthode `.as_doc()`.  Cet objet peut être ensuite traité par la pipeline `nlp`."
   ]
  },
  {
   "cell_type": "code",
   "execution_count": 110,
   "metadata": {},
   "outputs": [
    {
     "name": "stdout",
     "output_type": "stream",
     "text": [
      "Je [PRON]\n",
      "sens [VERB]\n",
      "qu' [SCONJ]\n",
      "entre [ADP]\n",
      "ça [PRON]\n",
      "et [CCONJ]\n",
      "les [DET]\n",
      "films [NOUN]\n",
      "de [ADP]\n",
      "médecins [NOUN]\n",
      "et [CCONJ]\n",
      "scientifiques [NOUN]\n",
      "fous [PRON]\n",
      "que [PRON]\n",
      "nous [PRON]\n",
      "avons [AUX]\n",
      "déjà [ADV]\n",
      "vus [VERB]\n",
      ", [PUNCT]\n",
      "nous [PRON]\n",
      "pourrions [VERB]\n",
      "emprunter [VERB]\n",
      "un [DET]\n",
      "autre [ADJ]\n",
      "chemin [NOUN]\n",
      "pour [ADP]\n",
      "l' [DET]\n",
      "origine [NOUN]\n",
      ". [PUNCT]\n"
     ]
    }
   ],
   "source": [
    "# Veuillez écrire votre code ici.\n",
    "premiere_phrase_test_doc = nlp(premiere_phrase_test.as_doc())\n",
    "for token in premiere_phrase_test_doc:\n",
    "        print(f\"{token.text} [{token.pos_}]\")\n"
   ]
  },
  {
   "cell_type": "markdown",
   "metadata": {},
   "source": [
    "**3b.** Veuillez afficher les tags corrects de `premiere_phrase_test`, puis comparez-les visuellement les tags trouvés automatiquement au (3a).  Quelles différences trouvez-vous ?"
   ]
  },
  {
   "cell_type": "code",
   "execution_count": 111,
   "metadata": {},
   "outputs": [
    {
     "name": "stdout",
     "output_type": "stream",
     "text": [
      "Tags réels - Tags trouvés\n",
      "Je [PRON] - Je [PRON]\n",
      "sens [VERB] - sens [VERB]\n",
      "qu' [SCONJ] - qu' [SCONJ]\n",
      "entre [ADP] - entre [ADP]\n",
      "ça [PRON] - ça [PRON]\n",
      "et [CCONJ] - et [CCONJ]\n",
      "les [DET] - les [DET]\n",
      "films [NOUN] - films [NOUN]\n",
      "de [ADP] - de [ADP]\n",
      "médecins [NOUN] - médecins [NOUN]\n",
      "et [CCONJ] - et [CCONJ]\n",
      "scientifiques [NOUN] - scientifiques [NOUN]\n",
      "fous [ADJ] - fous [PRON]\n",
      "que [PRON] - que [PRON]\n",
      "nous [PRON] - nous [PRON]\n",
      "avons [AUX] - avons [AUX]\n",
      "déjà [ADV] - déjà [ADV]\n",
      "vus [VERB] - vus [VERB]\n",
      ", [PUNCT] - , [PUNCT]\n",
      "nous [PRON] - nous [PRON]\n",
      "pourrions [VERB] - pourrions [VERB]\n",
      "emprunter [VERB] - emprunter [VERB]\n",
      "un [DET] - un [DET]\n",
      "autre [ADJ] - autre [ADJ]\n",
      "chemin [NOUN] - chemin [NOUN]\n",
      "pour [ADP] - pour [ADP]\n",
      "l' [DET] - l' [DET]\n",
      "origine [NOUN] - origine [NOUN]\n",
      ". [PUNCT] - . [PUNCT]\n"
     ]
    }
   ],
   "source": [
    "print(\"Tags réels - Tags trouvés\")\n",
    "for token_test, token_doc in zip(premiere_phrase_test, premiere_phrase_test_doc):\n",
    "    print(f\"{token_test.text} [{token_test.pos_}] - {token_doc.text} [{token_doc.pos_}]\")\n",
    "# On trouve aucune différence ! C'est très bien "
   ]
  },
  {
   "cell_type": "code",
   "execution_count": 112,
   "metadata": {},
   "outputs": [],
   "source": [
    "from spacy.scorer import Scorer\n",
    "from spacy.training import Example"
   ]
  },
  {
   "cell_type": "code",
   "execution_count": 113,
   "metadata": {},
   "outputs": [],
   "source": [
    "scorer = Scorer()"
   ]
  },
  {
   "cell_type": "markdown",
   "metadata": {},
   "source": [
    "**3c.** Au lieu de compter manuellement combien de tags sont différents entre la référence et le résultat de la pipeline `nlp`, vous allez utiliser la classe `Scorer` de spaCy.  Une instance de cette classe permet de calculer les scores d'une liste d'objets de type `Exemple`, en fonction des annotations disponibles dans les objets.  Un objet de type `Exemple` contient deux objets de type `Doc`, l'un avec les annotations correctes et l'autre avec les annotations produites par une pipeline.  La [documentation de la méthode](https://spacy.io/api/scorer#score) `Scorer.score(..)` vous sera utile. \n",
    "\n",
    "* Veuillez calculer la justesse (*accuracy*) du *POS tagging* de `premiere_phrase_test`. \n",
    "* Veuillez justifier la valeur du score obtenu en utilisant votre réponse du (3b)."
   ]
  },
  {
   "cell_type": "code",
   "execution_count": 114,
   "metadata": {},
   "outputs": [
    {
     "name": "stdout",
     "output_type": "stream",
     "text": [
      "POS accuracy: 0.9655172413793104\n"
     ]
    }
   ],
   "source": [
    "example = Example.from_dict(premiere_phrase_test_doc, {\"pos\": [t.pos_ for t in premiere_phrase_test]})\n",
    "scores = scorer.score([example])\n",
    "print(f\"POS accuracy: {scores['pos_acc']}\")\n"
   ]
  },
  {
   "cell_type": "markdown",
   "metadata": {},
   "source": [
    "**3d.** Veuillez calculer la précision du *POS tagging* de la pipeline `nlp` sur toutes les données de test présentes dans `test_data`.  Comment se compare le score obtenu avec celui mentionné [dans la documentation](https://spacy.io/models/fr#fr_core_news_sm) du modèle `fr_core_news_sm` ?"
   ]
  },
  {
   "cell_type": "code",
   "execution_count": 119,
   "metadata": {},
   "outputs": [
    {
     "name": "stdout",
     "output_type": "stream",
     "text": [
      "POS accuracy on test data: 91.77%\n"
     ]
    }
   ],
   "source": [
    "# Veuillez écrire votre code ici, suivi de votre réponse à la question.\n",
    "examples = []\n",
    "for doc in test_data.get_docs(nlp.vocab):\n",
    "    pred_doc = nlp(doc.copy())\n",
    "    example = Example.from_dict(pred_doc, {\"pos\": [t.pos_ for t in doc]})\n",
    "    examples.append(example)\n",
    "    \n",
    "scores = scorer.score(examples)\n",
    "print(f\"POS accuracy on test data: {scores['pos_acc']:.2%}\")\n",
    "\n"
   ]
  },
  {
   "cell_type": "code",
   "execution_count": 82,
   "metadata": {},
   "outputs": [],
   "source": [
    "# On obtient une précision de 0.918, dans la documentation on trouve 0.96 donc c'est bien moins bon ? Après je ne sais pas trop pourquoi"
   ]
  },
  {
   "cell_type": "markdown",
   "metadata": {},
   "source": [
    "## 4. Entraîner puis évaluer un nouveau POS tagger français dans spaCy\n",
    "\n",
    "Le but de cette partie est d'entraîner une pipeline spaCy pour le français sur les données de `fr-ud-train.conllu`, puis de comparer le modèle obtenu avec le modèle prêt-à-l'emploi testé au point précédent.  Les [instructions d'entraînement](https://spacy.io/usage/training#quickstart) de spaCy vous montrent comment entraîner une pipeline avec un POS tagger.\n",
    "\n",
    "**4a.** Paramétrage de l'entraînement :\n",
    "* générez un fichier de départ grâce à [l'interface web](https://spacy.io/usage/training#quickstart), en indiquant que vous voulez seulement un POS tagger dans la pipeline ;\n",
    "* sauvegardez le code généré par spaCy dans un fichier local `base_config.cfg` ;\n",
    "* générez un fichier `config.cfg` sur votre ordinateur en exécutant la ligne de commande suivante. "
   ]
  },
  {
   "cell_type": "code",
   "execution_count": 83,
   "metadata": {},
   "outputs": [
    {
     "name": "stdout",
     "output_type": "stream",
     "text": [
      "\u001b[38;5;2m✔ Auto-filled config with all values\u001b[0m\n",
      "\u001b[38;5;2m✔ Saved config\u001b[0m\n",
      "config.cfg\n",
      "You can now add your data and train your pipeline:\n",
      "python -m spacy train config.cfg --paths.train ./train.spacy --paths.dev ./dev.spacy\n"
     ]
    }
   ],
   "source": [
    "!python -m spacy init fill-config base_config.cfg config.cfg"
   ]
  },
  {
   "cell_type": "markdown",
   "metadata": {},
   "source": [
    "Enfin, veuillez effectuer l'entraînement avec la ligne de commande suivante.  Faites plusieurs essais, d'abord avec un petit nombre d'époques, pour estimer le temps nécessaire et observer les messages affichés.  Puis augmentez progressivement le nombre d'époques.  Quel est le critère qui vous permet de décider que vous avez un nombre suffisant d'époques ?  Dans quel dossier se trouve le meilleur modèle ?"
   ]
  },
  {
   "cell_type": "code",
   "execution_count": 84,
   "metadata": {},
   "outputs": [
    {
     "name": "stdout",
     "output_type": "stream",
     "text": [
      "\u001b[38;5;4mℹ Saving to output directory: myPOStagger1\u001b[0m\n",
      "\u001b[38;5;4mℹ Using GPU: 0\u001b[0m\n",
      "\u001b[1m\n",
      "=========================== Initializing pipeline ===========================\u001b[0m\n",
      "\u001b[38;5;2m✔ Initialized pipeline\u001b[0m\n",
      "\u001b[1m\n",
      "============================= Training pipeline =============================\u001b[0m\n",
      "\u001b[38;5;4mℹ Pipeline: ['tok2vec', 'tagger']\u001b[0m\n",
      "\u001b[38;5;4mℹ Initial learn rate: 0.001\u001b[0m\n",
      "E    #       LOSS TOK2VEC  LOSS TAGGER  TAG_ACC  SCORE \n",
      "---  ------  ------------  -----------  -------  ------\n",
      "  0       0          0.00       211.77    38.03    0.38\n",
      "  0     200        315.58     10366.11    90.21    0.90\n",
      "  0     400        285.29      4504.96    91.68    0.92\n",
      "  0     600        225.79      3457.26    92.04    0.92\n",
      "  0     800        217.70      3440.73    92.56    0.93\n",
      "  0    1000        184.30      2961.38    92.60    0.93\n",
      "  0    1200        183.23      2939.86    92.87    0.93\n",
      "  0    1400        171.10      2732.89    93.00    0.93\n",
      "  1    1600        146.14      2197.64    93.09    0.93\n",
      "  1    1800        137.23      2008.14    93.20    0.93\n",
      "  1    2000        153.51      2284.64    93.16    0.93\n",
      "  1    2200        147.66      2153.09    93.25    0.93\n",
      "  1    2400        146.18      2121.58    93.26    0.93\n",
      "  1    2600        152.54      2167.79    93.26    0.93\n",
      "  1    2800        152.16      2152.80    93.41    0.93\n",
      "  2    3000        133.73      1827.45    93.35    0.93\n",
      "  2    3200        124.18      1606.93    93.39    0.93\n",
      "  2    3400        134.64      1704.89    93.51    0.94\n",
      "  2    3600        129.17      1635.11    93.53    0.94\n",
      "  2    3800        125.19      1583.06    93.56    0.94\n",
      "  2    4000        133.52      1677.84    93.51    0.94\n",
      "  2    4200        142.38      1757.26    93.49    0.93\n",
      "  3    4400        138.01      1685.68    93.65    0.94\n",
      "  3    4600        102.44      1175.53    93.59    0.94\n",
      "  3    4800        113.29      1282.62    93.51    0.94\n",
      "  3    5000        126.69      1433.92    93.43    0.93\n",
      "  3    5200        124.04      1370.95    93.55    0.94\n",
      "  3    5400        126.34      1408.43    93.62    0.94\n",
      "  3    5600        122.91      1358.81    93.63    0.94\n",
      "  3    5800        133.48      1454.08    93.60    0.94\n",
      "  4    6000        114.84      1188.60    93.57    0.94\n",
      "\u001b[38;5;2m✔ Saved pipeline to output directory\u001b[0m\n",
      "myPOStagger1\\model-last\n"
     ]
    },
    {
     "data": {
      "text/plain": [
       "0"
      ]
     },
     "execution_count": 84,
     "metadata": {},
     "output_type": "execute_result"
    }
   ],
   "source": [
    "import subprocess\n",
    "\n",
    "command = [\n",
    "    \"python\", \"-m\", \"spacy\", \"train\", \"config.cfg\",\n",
    "    \"--output\", \"./myPOStagger1\",\n",
    "    \"--paths.train\", \"./spacy_data/fr-ud-train.spacy\",\n",
    "    \"--paths.dev\", \"./spacy_data/fr-ud-dev.spacy\",\n",
    "    \"--verbose\",\n",
    "    \"--gpu-id\", \"0\"\n",
    "]\n",
    "\n",
    "process = subprocess.Popen(command, stdout=subprocess.PIPE, stderr=subprocess.PIPE, text=True)\n",
    "\n",
    "for line in process.stdout:\n",
    "    print(line, end='')\n",
    "\n",
    "process.stdout.close()\n",
    "process.wait()"
   ]
  },
  {
   "cell_type": "code",
   "execution_count": 85,
   "metadata": {},
   "outputs": [],
   "source": [
    "# Veuillez indiquer ici le nombre d'époques final et la réponse à la question.\n",
    "# J'ai laissé le nombre d'epoch à 0 pour que ça se fasse automatiquement et on trouve que le nombre d'époque optimal est de 4. J'ai essayé de mettre à 5 mais on s'arrête tout de même à 4 ?\n",
    "# Le nombre d'essais optimal est déterminé au moment ou la variable loss tagger arrête de diminuer. On voit qu'on est dans minimum local au bout du 4eme epoch\n",
    "\n",
    "# Le meilleur model se trouve dans ./myPOStagger1/model-best "
   ]
  },
  {
   "cell_type": "markdown",
   "metadata": {},
   "source": [
    "**4b.**  Veuillez charger le meilleur modèle (pipeline) dans la variable `nlp2` et afficher la *POS tagging accuracy* sur le corpus de test.  Le composant de la pipeline étant un *POS tagger*, vous devrez évaluer la propriété *tag_acc*. "
   ]
  },
  {
   "cell_type": "code",
   "execution_count": 117,
   "metadata": {},
   "outputs": [
    {
     "name": "stdout",
     "output_type": "stream",
     "text": [
      "POS tagger accuracy on test data: 93.32%\n"
     ]
    }
   ],
   "source": [
    "# Veuillez écrire votre code ici.\n",
    "nlp2 = spacy.load(\"./myPOStagger1/model-best\")\n",
    "\n",
    "score_pos_docs_best = scorer.score([\n",
    "    Example(nlp2(doc.text), doc) for doc in test_data.get_docs(nlp.vocab)\n",
    "])\n",
    "\n",
    "print(f\"POS tagger accuracy on test data: {score_pos_docs_best.get('tag_acc'):.2%}\")\n"
   ]
  },
  {
   "cell_type": "markdown",
   "metadata": {},
   "source": [
    "## 5. Entraîner puis évaluer un POS tagger pour le français dans NLTK\n",
    "\n",
    "Le but de cette partie est d'utiliser le POS tagger appelé *Averaged Perceptron* fourni par NLTK, en l'entraînant pour le français sur les mêmes données que ci-dessus, importées cette fois-ci avec NLTK.  Pour une introduction au POS tagging avec NLTK, voir le [Chapitre 5.1 du livre NLTK](http://www.nltk.org/book/ch05.html).\n",
    "\n",
    "Remarques :\n",
    "* pour l'anglais, des taggers pré-entraînés sont disponibles dans NLTK ;\n",
    "* pour appliquer un tagger existant, on écrit `nltk.pos_tag(sentence)` où `sentence` est une liste de tokens et on obtient des paires (token, TAG) ;\n",
    "* l'implémentation de *Averaged Perceptron* a été faite par [Mathew Honnibal de Explosion.AI](https://explosion.ai/blog/part-of-speech-pos-tagger-in-python), la société qui a créé spaCy."
   ]
  },
  {
   "cell_type": "markdown",
   "metadata": {},
   "source": [
    "**5a.** Veuillez charger les données d'entraînement et celles de test grâce à la classe `ConllCorpusReader` de NLTK.  [La documentation de cette classe](https://www.nltk.org/api/nltk.corpus.reader.conll.html#nltk.corpus.reader.conll.ConllCorpusReader) vous montrera comment indiquer les colonnes qui contiennent les tokens ('words') et les tags corrects ('pos').  Une fois les données chargées dans une variable, vous pouvez accéder aux phrases et aux tags avec la méthode `.tagged_sents()`."
   ]
  },
  {
   "cell_type": "code",
   "execution_count": 87,
   "metadata": {},
   "outputs": [],
   "source": [
    "from nltk.corpus.reader.conll import ConllCorpusReader"
   ]
  },
  {
   "cell_type": "code",
   "execution_count": 88,
   "metadata": {},
   "outputs": [
    {
     "name": "stdout",
     "output_type": "stream",
     "text": [
      "[('Les', 'DET'), ('commotions', 'NOUN'), ('cérébrales', 'ADJ'), ('sont', 'AUX'), ('devenu', 'VERB'), ('si', 'ADV'), ('courantes', 'ADJ'), ('dans', 'ADP'), ('ce', 'DET'), ('sport', 'NOUN'), (\"qu'\", 'SCONJ'), ('on', 'PRON'), ('les', 'PRON'), ('considére', 'VERB'), ('presque', 'ADV'), ('comme', 'ADP'), ('la', 'DET'), ('routine', 'NOUN'), ('.', 'PUNCT')]\n"
     ]
    }
   ],
   "source": [
    "# Veuillez écrire votre code ici.\n",
    "columntypes = ['ignore', 'words', 'ignore', 'pos']\n",
    "\n",
    "train_data = ConllCorpusReader('./input_data', 'fr-ud-train.conllu', columntypes,separator=\"\\t\")\n",
    "test_data = ConllCorpusReader('./input_data', 'fr-ud-test.conllu', columntypes,separator=\"\\t\")\n",
    "\n",
    "train_sents = train_data.tagged_sents()\n",
    "test_sents = test_data.tagged_sents()\n",
    "\n",
    "print(train_sents[0])"
   ]
  },
  {
   "cell_type": "markdown",
   "metadata": {},
   "source": [
    "**5b.** Pour entraîner un POS tagger du type Averaged Perceptron, vous utiliserez le sous-module `nltk.tag.perceptron` du [module NLTK contenant les taggers](http://www.nltk.org/api/nltk.tag.html).  Les fonctions d'entraînement et de test sont documentées dans ce module.  Après l'entraînement, le réseau de neurones est enregistré dans un fichier `.pickle`, qui est écrasé à chaque entraînement si vous n'en faites pas une copie.  On peut également lire un fichier `.pickle` dans un tagger.\n",
    "\n",
    "Veuillez écrire le code pour entraîner le POS tagger sur les données d'entraînement.  Comme au (4), pensez augmenter graduellement le nombre d'époques (appelées 'itérations' dans NLTK).\n",
    "\n",
    "Combien de temps prend l'entraînement ?  Quelle est la taille du fichier enregistré ?"
   ]
  },
  {
   "cell_type": "code",
   "execution_count": 89,
   "metadata": {},
   "outputs": [],
   "source": [
    "import os\n",
    "# import nltk\n",
    "# nltk.download('averaged_perceptron_tagger') # à exécuter la première fois\n",
    "from perceptron_patched import PerceptronTagger"
   ]
  },
  {
   "cell_type": "code",
   "execution_count": 90,
   "metadata": {},
   "outputs": [],
   "source": [
    "ptagger = PerceptronTagger(load=False)"
   ]
  },
  {
   "cell_type": "code",
   "execution_count": 91,
   "metadata": {},
   "outputs": [
    {
     "name": "stdout",
     "output_type": "stream",
     "text": [
      "Temps d'entraînement pour 2 epochs: 9.67 secondes\n",
      "Taille des fichiers pour 2 epochs: 4.48 MB\n",
      "Temps d'entraînement pour 3 epochs: 12.41 secondes\n",
      "Taille des fichiers pour 3 epochs: 5.69 MB\n",
      "Temps d'entraînement pour 5 epochs: 19.71 secondes\n",
      "Taille des fichiers pour 5 epochs: 6.52 MB\n",
      "Temps d'entraînement pour 10 epochs: 38.37 secondes\n",
      "Taille des fichiers pour 10 epochs: 7.16 MB\n",
      "Temps d'entraînement pour 20 epochs: 80.25 secondes\n",
      "Taille des fichiers pour 20 epochs: 7.60 MB\n"
     ]
    }
   ],
   "source": [
    "# Veuillez écrire votre code ici.\n",
    "import time \n",
    "import os\n",
    "\n",
    "os.makedirs(\"./ptaggerOutput\", exist_ok=True)\n",
    "\n",
    "nbIteration = [2,3,5,10,20]\n",
    "\n",
    "for it in nbIteration:\n",
    "    start_time = time.time()\n",
    "    model_path = f\"./ptaggerOutput/ptaggermodel-{it}.pickle\"\n",
    "    \n",
    "    ptagger.train(train_sents, save_loc=model_path, nr_iter=it) \n",
    "\n",
    "    training_time = time.time() - start_time\n",
    "    print(f\"Temps d'entraînement pour {it} epochs: {training_time:.2f} secondes\")\n",
    "    \n",
    "    file_size_bytes = os.path.getsize(model_path + \"_averaged_perceptron_tagger.xxx.classes.json\")\n",
    "    file_size_bytes += os.path.getsize(model_path + \"_averaged_perceptron_tagger.xxx.tagdict.json\")\n",
    "    file_size_bytes += os.path.getsize(model_path + \"_averaged_perceptron_tagger.xxx.weights.json\")\n",
    "    file_size_mb = file_size_bytes / (1024 * 1024) \n",
    "    print(f\"Taille des fichiers pour {it} epochs: {file_size_mb:.2f} MB\")\n"
   ]
  },
  {
   "cell_type": "code",
   "execution_count": null,
   "metadata": {},
   "outputs": [],
   "source": [
    "# Veuillez écrire ici vos réponses aux questions (temps d'entraînement et taille du modèle).\n",
    "# J'ai additionné tous les fichiers générés pour le modèle et les informations sont dans l'output ci-dessus"
   ]
  },
  {
   "cell_type": "markdown",
   "metadata": {},
   "source": [
    "**5c.** Veuillez évaluer le tagger sur les données de test et afficher le taux de correction."
   ]
  },
  {
   "cell_type": "code",
   "execution_count": 93,
   "metadata": {},
   "outputs": [
    {
     "name": "stdout",
     "output_type": "stream",
     "text": [
      "Modèle pour 2 epochs:\n",
      "Precision du POS sur les données de test : 95.67%\n",
      "Modèle pour 3 epochs:\n",
      "Precision du POS sur les données de test : 95.75%\n",
      "Modèle pour 5 epochs:\n",
      "Precision du POS sur les données de test : 95.92%\n",
      "Modèle pour 10 epochs:\n",
      "Precision du POS sur les données de test : 95.95%\n",
      "Modèle pour 20 epochs:\n",
      "Precision du POS sur les données de test : 96.06%\n"
     ]
    }
   ],
   "source": [
    "# Veuillez écrire votre code ici.\n",
    "# Load each trained model and evaluate it\n",
    "for it in nbIteration:\n",
    "    model_path = f\"./ptaggerOutput/ptaggermodel-{it}.pickle\"\n",
    "    \n",
    "    # Load the model\n",
    "    tagger = PerceptronTagger(load=False)\n",
    "    tagger.load_from_json(model_path)\n",
    "    \n",
    "    # Calculate accuracy on test data\n",
    "    accuracy = tagger.accuracy(test_sents)\n",
    "    \n",
    "    print(f\"Modèle pour {it} epochs:\")\n",
    "    print(f\"Precision du POS sur les données de test : {accuracy:.2%}\")"
   ]
  },
  {
   "cell_type": "markdown",
   "metadata": {},
   "source": [
    "## 6. Conclusion\n",
    "\n",
    "Veuillez remplir le tableau suivant avec les scores obtenus et discuter brièvement comment se comparent les trois POS taggers sur ces données de test.\n",
    "\n",
    "| spaCy (partie 3) | spaCy (partie 4) | NLTK (partie 5) | \n",
    "|------------------|------------------|-----------------|\n",
    "| tagger fourni    | tagger entraîné  | tagger entraîné |\n",
    "| 91.77%           |  93.32%          | 96.06%          |\n"
   ]
  },
  {
   "cell_type": "markdown",
   "metadata": {},
   "source": [
    "**Fin du Labo.** Veuillez nettoyer ce notebook en gardant seulement les résultats désirés, l'enregistrer, et le soumettre comme devoir sur Cyberlearn."
   ]
  }
 ],
 "metadata": {
  "kernelspec": {
   "display_name": "Python 3",
   "language": "python",
   "name": "python3"
  },
  "language_info": {
   "codemirror_mode": {
    "name": "ipython",
    "version": 3
   },
   "file_extension": ".py",
   "mimetype": "text/x-python",
   "name": "python",
   "nbconvert_exporter": "python",
   "pygments_lexer": "ipython3",
   "version": "3.11.11"
  }
 },
 "nbformat": 4,
 "nbformat_minor": 4
}
