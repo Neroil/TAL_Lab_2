{
 "cells": [
  {
   "cell_type": "markdown",
   "metadata": {},
   "source": [
    "<img src=\"https://heig-vd.ch/docs/default-source/doc-global-newsletter/2020-slim.svg\" alt=\"HEIG-VD Logo\" width=\"100\" align=\"right\" /> \n",
    "\n",
    "# Cours TAL - Laboratoire 2<br/>*POS taggers* pour le français dans spaCy et NLTK\n",
    "\n",
    "**Objectif**\n",
    "\n",
    "Comparer l'étiqueteur morphosyntaxique français prêt-à-l'emploi de spaCy avec deux étiqueteurs entraînés, l'un dans spaCy et l'autre dans NLTK."
   ]
  },
  {
   "cell_type": "markdown",
   "metadata": {},
   "source": [
    "## 1. Installation et test de spaCy\n",
    "\n",
    "La boîte à outils spaCy est une librairie Python *open source* pour le TAL, dédiée à un usage en production. Les documents suivants vous seront utiles :\n",
    "* comment [installer](https://spacy.io/usage) spaCy\n",
    "* comment [télécharger un modèle](https://spacy.io/usage/models) pour une langue donnée (on appelle ces modèles des *trained pipelines* car ils enchaînent plusieurs traitements)\n",
    "* comment faire les [premiers pas](https://spacy.io/usage/spacy-101) dans l'utilisation de spaCy\n",
    "\n",
    "Veuillez installer spaCy, puis la *pipeline* pour le français appelée `fr_core_news_sm`.  Si vous utilisez *conda*, installez spaCy dans l'environnement du cours TAL."
   ]
  },
  {
   "cell_type": "code",
   "execution_count": 2,
   "metadata": {},
   "outputs": [],
   "source": [
    "import spacy\n",
    "import tqdm # permet l'affichage d'une barre de progression"
   ]
  },
  {
   "cell_type": "markdown",
   "metadata": {},
   "source": [
    "**1a.** Une pipeline effectue un ensemble de traitements d'un texte en lui ajoutant des annotations.  Les traitements effectués par la pipeline `fr_core_news_sm` sont [documentés ici](https://spacy.io/models/fr#fr_core_news_sm).  La liste des traitements d'une pipeline figure dans son attribut `.pipe_names`.  On peut activer ou désactiver un traitement T avec, respectivement, les méthodes `.disable_pipe(T)` et `.enable_pipe(T)` appliquées à la pipeline.\n",
    "\n",
    "* Veuillez afficher les traitements disponibles dans la pipeline `fr_core_news_sm` chargée ci-dessus sous le nom de `nlp` .\n",
    "* Veuillez désactiver tous les traitements sauf `tok2vec` et `morphologizer` (on fait cela pour accélerer le traitement).\n",
    "* Vérifiez que la désactivation a bien fonctionné en affichant les traitements activés."
   ]
  },
  {
   "cell_type": "code",
   "execution_count": 4,
   "metadata": {},
   "outputs": [
    {
     "name": "stdout",
     "output_type": "stream",
     "text": [
      "Traitements disponibles : ['tok2vec', 'morphologizer', 'parser', 'attribute_ruler', 'lemmatizer', 'ner']\n",
      "Traitements activés : ['tok2vec', 'morphologizer']\n"
     ]
    }
   ],
   "source": [
    "# Veuillez écrire votre code ici.\n",
    "# Veuillez désactiver tous les traitements sauf `tok2vec` et `morphologizer` (on fait cela pour accélerer le traitement).\n",
    "nlp = spacy.load(\"fr_core_news_sm\")\n",
    "print(\"Traitements disponibles :\", nlp.pipe_names)\n",
    "for pipe in nlp.pipe_names:\n",
    "    if pipe not in {\"tok2vec\", \"morphologizer\"}:\n",
    "        nlp.disable_pipe(pipe)\n",
    "\n",
    "print(\"Traitements activés :\", nlp.pipe_names)"
   ]
  },
  {
   "cell_type": "code",
   "execution_count": null,
   "metadata": {},
   "outputs": [],
   "source": [
    "from spacy.lang.fr.examples import sentences\n",
    "import tqdm"
   ]
  },
  {
   "cell_type": "markdown",
   "metadata": {},
   "source": [
    "**1b.** L'objet `sentences` chargé ci-dessus contient une liste de phrases en français. \n",
    "\n",
    "* Veuillez afficher les deux premières phrases de `sentences`.\n",
    "* Veuillez analyser chacune de ces deux phrases avec la pipeline `nlp` puis afficher chaque token et son POS tag.\n",
    "    * indication : aidez-vous de la [documentation](https://spacy.io/models/fr#fr_core_news_sm) de `fr_core_news_sm`\n",
    "    * consigne d'affichage : indiquer le tag entre crochets après chaque token, comme ceci : Les \\[DET\\] robots \\[NOUN\\] ...\n",
    "    * note : la documentation détaillée du POS tagging dans spaCy est [disponible ici](https://spacy.io/usage/linguistic-features)\n",
    "* Veuillez commenter la tokenisation et les POS tags observés : vous semblent-ils corrects pour les deux phrases ?"
   ]
  },
  {
   "cell_type": "code",
   "execution_count": 33,
   "metadata": {},
   "outputs": [
    {
     "name": "stdout",
     "output_type": "stream",
     "text": [
      "Premières phrases de l'exemple : ['Apple cherche à acheter une start-up anglaise pour 1 milliard de dollars', \"Les voitures autonomes déplacent la responsabilité de l'assurance vers les constructeurs\"]\n"
     ]
    },
    {
     "name": "stderr",
     "output_type": "stream",
     "text": [
      "100%|██████████| 2/2 [00:00<00:00, 419.75it/s]"
     ]
    },
    {
     "name": "stdout",
     "output_type": "stream",
     "text": [
      "Analyse de la phrase : Apple cherche à acheter une start-up anglaise pour 1 milliard de dollars\n",
      "Apple [NOUN] cherche [NOUN] à [ADP] acheter [VERB] une [DET] start [NOUN] - [NOUN] up [ADJ] anglaise [NOUN] pour [ADP] 1 [NUM] milliard [NOUN] de [ADP] dollars [NOUN] \n",
      "\n",
      "Analyse de la phrase : Les voitures autonomes déplacent la responsabilité de l'assurance vers les constructeurs\n",
      "Les [DET] voitures [NOUN] autonomes [ADJ] déplacent [ADV] la [DET] responsabilité [NOUN] de [ADP] l' [DET] assurance [NOUN] vers [ADP] les [DET] constructeurs [NOUN] \n",
      "\n"
     ]
    },
    {
     "name": "stderr",
     "output_type": "stream",
     "text": [
      "\n"
     ]
    }
   ],
   "source": [
    "# Veuillez écrire votre code et votre commentaire ici.\n",
    "print(f\"Premières phrases de l'exemple : {sentences[:2]}\")\n",
    "\n",
    "for sentence in tqdm.tqdm(sentences[:2]):\n",
    "    doc = nlp(sentence)\n",
    "    print(f\"Analyse de la phrase : {sentence}\")\n",
    "    for token in doc:\n",
    "        print(f\"{token.text} [{token.pos_}] \", end=\"\")\n",
    "    print(\"\\n\")\n"
   ]
  },
  {
   "cell_type": "code",
   "execution_count": 34,
   "metadata": {},
   "outputs": [],
   "source": [
    "## Commentaire\n",
    "# On peut voir que les phrases sont bien tokenisées et que les étiquettes de POS sont bien attribuées, toutefois,\n",
    "# on peut voir que les étiquettes de POS ne sont pas toujours correctes. Par exemple, \"cherche\" est étiqueté comme un\n",
    "# nom alors que c'est un verbe. \"Start-up\" a été segmenté en deux tokens, ce qui me semble pas être une bonne idée.\n",
    "# \"anglaise\" est étiqueté comme un nom alors que c'est un adjectif.\n",
    "# Pour la 2ème phrase, \"déplacent\" devrait être verbe et non un adverbe."
   ]
  },
  {
   "cell_type": "markdown",
   "metadata": {},
   "source": [
    "## 2. Prise en main des données\n",
    "\n",
    "Les données sont fournies dans un format tabulaire dans l'archive `UD_French-GSD.zip` sur Cyberlearn.  Elles sont basées sur les données fournies par le projet [Universal Dependencies](https://github.com/UniversalDependencies/UD_French-GSD).  Leur format, appelé CoNLL-U, est [documenté ici](https://universaldependencies.org/format.html).  Veuillez placer les trois fichiers contenus dans l'archive dans un sous-dossier de ce notebook nommé `spacy_data`.\n",
    "\n",
    "Les trois fichiers contiennent des phrases en français annotées avec les POS tags :\n",
    "* le fichier `fr-ud-train.conllu` est destiné à l'entraînement\n",
    "* le fichier `fr-ud-dev.conllu` est destiné aux tests préliminaires et aux réglages des paramètres\n",
    "* le fichier `fr-ud-test.conllu` est destiné à l'évaluation finale.\n",
    "\n",
    "**2a.** En inspectant les fichiers avec un éditeur texte, veuillez déterminer dans quelle colonne se trouvent les *tokens* des textes originaux, et dans quelle colonne se trouvent leurs étiquettes morpho-syntaxiques correctes (*POS tags*).  Que contient la troisième colonne ?"
   ]
  },
  {
   "cell_type": "code",
   "execution_count": null,
   "metadata": {},
   "outputs": [],
   "source": [
    "# Veuillez écrire vos réponses dans cette cellule.\n",
    "## Le numéro de colonne pour les tokens est 2\n",
    "## Le numéro de colonne pour les POS est 4\n",
    "## Dans la colonne 3, on a les lemmes des tokens (forme canonique)"
   ]
  },
  {
   "attachments": {},
   "cell_type": "markdown",
   "metadata": {},
   "source": [
    "**2b.** Veuillez convertir les trois fichiers de données en des fichiers binaires utilisables par spaCy, en utilisant la [commande 'convert' fournie par spaCy](https://spacy.io/api/cli#convert).  La commande est donnée ci-dessous, le premier dossier `./input_data` contient les 3 fichiers `.conllu` et le dossier `./spacy-data` contiendra les 3 résultats.\n",
    "\n",
    "* Veuillez exécuter la commande de conversion.\n",
    "* Combien de phrases environ (à 10 phrases près) contient chaque fichier (*train*, *dev*, *test*) ?  Observez la commande et son résultat pour répondre."
   ]
  },
  {
   "cell_type": "code",
   "execution_count": 36,
   "metadata": {},
   "outputs": [
    {
     "name": "stdout",
     "output_type": "stream",
     "text": [
      "\u001b[38;5;4mℹ Grouping every 10 sentences into a document.\u001b[0m\n",
      "\u001b[38;5;2m✔ Generated output file (148 documents): spacy_data/fr-ud-dev.spacy\u001b[0m\n",
      "\u001b[38;5;4mℹ Grouping every 10 sentences into a document.\u001b[0m\n",
      "\u001b[38;5;2m✔ Generated output file (42 documents): spacy_data/fr-ud-test.spacy\u001b[0m\n",
      "\u001b[38;5;4mℹ Grouping every 10 sentences into a document.\u001b[0m\n",
      "\u001b[38;5;2m✔ Generated output file (1456 documents):\n",
      "spacy_data/fr-ud-train.spacy\u001b[0m\n"
     ]
    }
   ],
   "source": [
    "!python -m spacy convert ./input_data ./spacy_data --converter conllu  --n-sents 10 --lang fr"
   ]
  },
  {
   "cell_type": "code",
   "execution_count": 38,
   "metadata": {},
   "outputs": [],
   "source": [
    "# Veuillez indiquer les nombres de phrases ici.\n",
    "\n",
    "# fr-ud-dev.spacy: 148 documents -> donc environ 1480 phrases (148 × 10).\n",
    "# fr-ud-test.spacy: 42 documents -> donc environ 420 phrases (42 × 10).\n",
    "# fr-ud-train.spacy: 1456 documents -> donc environ 14 560 phrases (1456 × 10)."
   ]
  },
  {
   "cell_type": "markdown",
   "metadata": {},
   "source": [
    "**2c**. Les données des fichiers convertis peuvent être chargées dans un objet de type `DocBin`.  Dans notre cas, un tel objet contient un ensemble de documents, chacun contenant 10 phrases.  Chaque document est un objet de type `Doc`.  Le code donné ci-dessous vous permet de charger les données de test et vous montre comment les afficher.\n",
    "\n",
    "* Veuillez stocker la première phrase des données de test dans une variable nommée `premiere_phrase_test`.\n",
    "* Veuillez afficher cette phrase, ainsi que son type dans spaCy."
   ]
  },
  {
   "cell_type": "code",
   "execution_count": 5,
   "metadata": {},
   "outputs": [],
   "source": [
    "from spacy.tokens import DocBin\n",
    "from spacy.tokens import Doc\n",
    "test_data = DocBin().from_disk(\"./spacy_data/fr-ud-test.spacy\")\n",
    "# Exemple d'utilisation (afficher toutes les phrases)\n",
    "# for doc in test_data.get_docs(nlp.vocab): \n",
    "#     for sent in doc.sents:\n",
    "#         print(sent)"
   ]
  },
  {
   "cell_type": "code",
   "execution_count": 6,
   "metadata": {},
   "outputs": [
    {
     "name": "stdout",
     "output_type": "stream",
     "text": [
      "Première phrase du fichier de test : Je sens qu'entre ça et les films de médecins et scientifiques fous que nous avons déjà vus, nous pourrions emprunter un autre chemin pour l'origine.\n",
      "Type de l'objet : <class 'spacy.tokens.span.Span'>\n"
     ]
    }
   ],
   "source": [
    "# Veuillez écrire votre code ici.\n",
    "docs = list(test_data.get_docs(nlp.vocab))\n",
    "premiere_phrase_test = next(next(test_data.get_docs(nlp.vocab)).sents)\n",
    "print(f\"Première phrase du fichier de test : {premiere_phrase_test}\")\n",
    "print(f\"Type de l'objet : {type(premiere_phrase_test)}\")"
   ]
  },
  {
   "cell_type": "markdown",
   "metadata": {},
   "source": [
    "## 3. Évaluation du POS tagger français de la pipeline `fr_core_news_sm`"
   ]
  },
  {
   "cell_type": "markdown",
   "metadata": {},
   "source": [
    "**3a.** Veuillez effectuer le *POS tagging* avec spaCy de la `premiere_phrase_test` et afficher les résultats dans le format demandé au (1b).  Indication : convertissez la `premiere_phrase_test` dans un objet de type `Doc` en lui appliquant la méthode `.as_doc()`.  Cet objet peut être ensuite traité par la pipeline `nlp`."
   ]
  },
  {
   "cell_type": "code",
   "execution_count": 54,
   "metadata": {},
   "outputs": [
    {
     "name": "stdout",
     "output_type": "stream",
     "text": [
      "Type de l'objet : <class 'spacy.tokens.doc.Doc'>\n",
      "Phrase traitée : Je sens qu'entre ça et les films de médecins et scientifiques fous que nous avons déjà vus, nous pourrions emprunter un autre chemin pour l'origine.\n",
      "Analyse de la phrase : Je sens qu'entre ça et les films de médecins et scientifiques fous que nous avons déjà vus, nous pourrions emprunter un autre chemin pour l'origine.\n",
      "Je [PRON] sens [VERB] qu' [SCONJ] entre [ADP] ça [PRON] et [CCONJ] les [DET] films [NOUN] de [ADP] médecins [NOUN] et [CCONJ] scientifiques [NOUN] fous [PRON] que [PRON] nous [PRON] avons [AUX] déjà [ADV] vus [VERB] , [PUNCT] nous [PRON] pourrions [VERB] emprunter [VERB] un [DET] autre [ADJ] chemin [NOUN] pour [ADP] l' [DET] origine [NOUN] . [PUNCT] \n",
      "\n"
     ]
    }
   ],
   "source": [
    "# Veuillez écrire votre code ici.\n",
    "premiere_phrase_test_doc = premiere_phrase_test.as_doc()\n",
    "print(f\"Type de l'objet : {type(premiere_phrase_test_doc)}\")\n",
    "phrase_traitee = nlp(premiere_phrase_test.text)\n",
    "print(f\"Phrase traitée : {phrase_traitee.text}\")\n",
    "print(f\"Analyse de la phrase : {phrase_traitee.text}\")\n",
    "for token in phrase_traitee:\n",
    "    print(f\"{token.text} [{token.pos_}] \", end=\"\")\n",
    "print(\"\\n\")"
   ]
  },
  {
   "cell_type": "markdown",
   "metadata": {},
   "source": [
    "**3b.** Veuillez afficher les tags corrects de `premiere_phrase_test`, puis comparez-les visuellement les tags trouvés automatiquement au (3a).  Quelles différences trouvez-vous ?"
   ]
  },
  {
   "cell_type": "code",
   "execution_count": null,
   "metadata": {},
   "outputs": [
    {
     "name": "stdout",
     "output_type": "stream",
     "text": [
      "Tags corrects :\n",
      "Je [PRON] sens [VERB] qu' [SCONJ] entre [ADP] ça [PRON] et [CCONJ] les [DET] films [NOUN] de [ADP] médecins [NOUN] et [CCONJ] scientifiques [NOUN] fous [ADJ] que [PRON] nous [PRON] avons [AUX] déjà [ADV] vus [VERB] , [PUNCT] nous [PRON] pourrions [VERB] emprunter [VERB] un [DET] autre [ADJ] chemin [NOUN] pour [ADP] l' [DET] origine [NOUN] . [PUNCT] \n",
      "\n",
      "Tags prédits :\n",
      "Je [PRON] sens [VERB] qu' [SCONJ] entre [ADP] ça [PRON] et [CCONJ] les [DET] films [NOUN] de [ADP] médecins [NOUN] et [CCONJ] scientifiques [NOUN] fous [PRON] que [PRON] nous [PRON] avons [AUX] déjà [ADV] vus [VERB] , [PUNCT] nous [PRON] pourrions [VERB] emprunter [VERB] un [DET] autre [ADJ] chemin [NOUN] pour [ADP] l' [DET] origine [NOUN] . [PUNCT] \n",
      "\n"
     ]
    }
   ],
   "source": [
    "# Veuillez écrire votre réponse ici.\n",
    "# Affichage des POS tags corrects de la phrase test\n",
    "print(\"Tags corrects :\")\n",
    "for token in premiere_phrase_test:\n",
    "    print(f\"{token.text} [{token.tag_}]\", end=\" \")\n",
    "print(\"\\n\")\n",
    "print(\"Tags prédits :\")\n",
    "for token in phrase_traitee:\n",
    "    print(f\"{token.text} [{token.pos_}]\", end=\" \")\n",
    "print(\"\\n\")\n"
   ]
  },
  {
   "cell_type": "code",
   "execution_count": 65,
   "metadata": {},
   "outputs": [
    {
     "name": "stdout",
     "output_type": "stream",
     "text": [
      "Token 'fous' : POS correcte -> ADJ | POS prédite -> PRON\n"
     ]
    }
   ],
   "source": [
    "if len(premiere_phrase_test) != len(phrase_traitee):\n",
    "    print(\"Les deux phrases n'ont pas le même nombre de tokens.\")\n",
    "else:\n",
    "    for i in range(len(premiere_phrase_test)):\n",
    "        if premiere_phrase_test[i].tag_ != phrase_traitee[i].pos_:\n",
    "            print(f\"Token '{premiere_phrase_test[i]}' : POS correcte -> {premiere_phrase_test[i].tag_} | POS prédite -> {phrase_traitee[i].pos_}\")\n",
    "\n",
    "## On voit que les POS prédites ne sont pas correctes pour le token \"fous\", qui est étiqueté comme un nom pronom personnel alors que c'est un adjectif."
   ]
  },
  {
   "cell_type": "code",
   "execution_count": 66,
   "metadata": {},
   "outputs": [],
   "source": [
    "from spacy.scorer import Scorer\n",
    "from spacy.training import Example"
   ]
  },
  {
   "cell_type": "code",
   "execution_count": 67,
   "metadata": {},
   "outputs": [],
   "source": [
    "scorer = Scorer()"
   ]
  },
  {
   "cell_type": "markdown",
   "metadata": {},
   "source": [
    "**3c.** Au lieu de compter manuellement combien de tags sont différents entre la référence et le résultat de la pipeline `nlp`, vous allez utiliser la classe `Scorer` de spaCy.  Une instance de cette classe permet de calculer les scores d'une liste d'objets de type `Exemple`, en fonction des annotations disponibles dans les objets.  Un objet de type `Exemple` contient deux objets de type `Doc`, l'un avec les annotations correctes et l'autre avec les annotations produites par une pipeline.  La [documentation de la méthode](https://spacy.io/api/scorer#score) `Scorer.score(..)` vous sera utile. \n",
    "\n",
    "* Veuillez calculer la justesse (*accuracy*) du *POS tagging* de `premiere_phrase_test`. \n",
    "* Veuillez justifier la valeur du score obtenu en utilisant votre réponse du (3b)."
   ]
  },
  {
   "cell_type": "code",
   "execution_count": null,
   "metadata": {},
   "outputs": [
    {
     "name": "stdout",
     "output_type": "stream",
     "text": [
      "Accuracy POS sur le dataset test : 96.55%\n"
     ]
    }
   ],
   "source": [
    "# Veuillez écrire votre code ici.\n",
    "example = Example(premiere_phrase_test_doc, phrase_traitee)\n",
    "scores = scorer.score([example])\n",
    "## 96.55%\n",
    "print(f\"Accuracy POS sur le dataset test : {scores['pos_acc']:.2%}\")\n"
   ]
  },
  {
   "cell_type": "markdown",
   "metadata": {},
   "source": [
    "**3d.** Veuillez calculer la précision du *POS tagging* de la pipeline `nlp` sur toutes les données de test présentes dans `test_data`.  Comment se compare le score obtenu avec celui mentionné [dans la documentation](https://spacy.io/models/fr#fr_core_news_sm) du modèle `fr_core_news_sm` ?"
   ]
  },
  {
   "cell_type": "code",
   "execution_count": null,
   "metadata": {},
   "outputs": [
    {
     "name": "stdout",
     "output_type": "stream",
     "text": [
      "Précision du POS tagging sur l'ensemble des documents : 91.77%\n",
      "Précision du POS tagging sur l'ensemble des phrases : 91.73%\n"
     ]
    }
   ],
   "source": [
    "# Veuillez écrire votre code ici, suivi de votre réponse à la question.\n",
    "\n",
    "score_pos_docs = scorer.score([\n",
    "    Example(nlp(doc.copy()), doc) for doc in test_data.get_docs(nlp.vocab)\n",
    "])\n",
    "\n",
    "## 91.77% de précision\n",
    "print(f\"Précision du POS tagging sur l'ensemble des documents : {score_pos_docs.get('pos_acc'):.2%}\")\n",
    "\n",
    "phrases_test = [phrase for doc in test_data.get_docs(nlp.vocab) for phrase in doc.sents]\n",
    "\n",
    "score_pos_phrases = scorer.score(\n",
    "    [Example(nlp(phrase.as_doc().copy()), phrase.as_doc()) for phrase in phrases_test]\n",
    "    )\n",
    "\n",
    "## 91.73% de précision\n",
    "print(f\"Précision du POS tagging sur l'ensemble des phrases : {score_pos_phrases.get('pos_acc'):.2%}\")\n"
   ]
  },
  {
   "cell_type": "code",
   "execution_count": null,
   "metadata": {},
   "outputs": [],
   "source": [
    "# nous avons testé la précision du POS tagging du modèle fr_core_news_sm sur un jeu de données de test. \n",
    "# Pour cela, nous avons comparé les annotations de référence avec celles générées par la pipeline spaCy, en utilisant la classe Scorer. \n",
    "# Nous avons évalué la précision des tags POS sur deux niveaux : d'abord sur l’ensemble des documents, puis sur chaque phrase individuellement. \n",
    "# D’après la documentation de spaCy, le modèle fr_core_news_sm a une précision POS d’environ 96%.\n",
    "# Cette différence est probablement due aux différences de dataset, aux problèmes de segmentation et aux limites du modèle compact que nous utilisons."
   ]
  },
  {
   "cell_type": "markdown",
   "metadata": {},
   "source": [
    "## 4. Entraîner puis évaluer un nouveau POS tagger français dans spaCy\n",
    "\n",
    "Le but de cette partie est d'entraîner une pipeline spaCy pour le français sur les données de `fr-ud-train.conllu`, puis de comparer le modèle obtenu avec le modèle prêt-à-l'emploi testé au point précédent.  Les [instructions d'entraînement](https://spacy.io/usage/training#quickstart) de spaCy vous montrent comment entraîner une pipeline avec un POS tagger.\n",
    "\n",
    "**4a.** Paramétrage de l'entraînement :\n",
    "* générez un fichier de départ grâce à [l'interface web](https://spacy.io/usage/training#quickstart), en indiquant que vous voulez seulement un POS tagger dans la pipeline ;\n",
    "* sauvegardez le code généré par spaCy dans un fichier local `base_config.cfg` ;\n",
    "* générez un fichier `config.cfg` sur votre ordinateur en exécutant la ligne de commande suivante. "
   ]
  },
  {
   "cell_type": "code",
   "execution_count": 87,
   "metadata": {},
   "outputs": [
    {
     "name": "stdout",
     "output_type": "stream",
     "text": [
      "\u001b[38;5;3m⚠ Nothing to auto-fill: base config is already complete\u001b[0m\n",
      "\u001b[38;5;2m✔ Saved config\u001b[0m\n",
      "config.cfg\n",
      "You can now add your data and train your pipeline:\n",
      "python -m spacy train config.cfg --paths.train ./train.spacy --paths.dev ./dev.spacy\n"
     ]
    }
   ],
   "source": [
    "#!python -m spacy init config base_config.cfg --lang fr --pipeline tagger\n",
    "!python -m spacy init fill-config base_config.cfg config.cfg"
   ]
  },
  {
   "cell_type": "markdown",
   "metadata": {},
   "source": [
    "Enfin, veuillez effectuer l'entraînement avec la ligne de commande suivante.  Faites plusieurs essais, d'abord avec un petit nombre d'époques, pour estimer le temps nécessaire et observer les messages affichés.  Puis augmentez progressivement le nombre d'époques.  Quel est le critère qui vous permet de décider que vous avez un nombre suffisant d'époques ?  Dans quel dossier se trouve le meilleur modèle ?"
   ]
  },
  {
   "cell_type": "code",
   "execution_count": 7,
   "metadata": {},
   "outputs": [
    {
     "name": "stdout",
     "output_type": "stream",
     "text": [
      "[2025-03-16 10:46:00,088] [DEBUG] Config overrides from CLI: ['paths.train', 'paths.dev', 'training.max_epochs']\n",
      "\u001b[38;5;4mℹ Saving to output directory: myPOStagger1\u001b[0m\n",
      "\u001b[38;5;4mℹ Using CPU\u001b[0m\n",
      "\u001b[1m\n",
      "=========================== Initializing pipeline ===========================\u001b[0m\n",
      "[2025-03-16 10:46:03,026] [INFO] Set up nlp object from config\n",
      "[2025-03-16 10:46:03,036] [DEBUG] Loading corpus from path: spacy_data/fr-ud-dev.spacy\n",
      "[2025-03-16 10:46:03,038] [DEBUG] Loading corpus from path: spacy_data/fr-ud-train.spacy\n",
      "[2025-03-16 10:46:03,039] [INFO] Pipeline: ['tok2vec', 'tagger']\n",
      "[2025-03-16 10:46:03,042] [INFO] Created vocabulary\n",
      "[2025-03-16 10:46:03,043] [INFO] Finished initializing nlp object\n",
      "[2025-03-16 10:46:17,001] [INFO] Initialized pipeline components: ['tok2vec', 'tagger']\n",
      "\u001b[38;5;2m✔ Initialized pipeline\u001b[0m\n",
      "\u001b[1m\n",
      "============================= Training pipeline =============================\u001b[0m\n",
      "[2025-03-16 10:46:17,012] [DEBUG] Loading corpus from path: spacy_data/fr-ud-dev.spacy\n",
      "[2025-03-16 10:46:17,013] [DEBUG] Loading corpus from path: spacy_data/fr-ud-train.spacy\n",
      "[2025-03-16 10:46:17,014] [DEBUG] Removed existing output directory: myPOStagger1/model-best\n",
      "[2025-03-16 10:46:17,015] [DEBUG] Removed existing output directory: myPOStagger1/model-last\n",
      "\u001b[38;5;4mℹ Pipeline: ['tok2vec', 'tagger']\u001b[0m\n",
      "\u001b[38;5;4mℹ Initial learn rate: 0.001\u001b[0m\n",
      "E    #       LOSS TOK2VEC  LOSS TAGGER  TAG_ACC  SCORE \n",
      "---  ------  ------------  -----------  -------  ------\n",
      "  0       0          0.00       211.77    36.34    0.36\n",
      "  0     200        315.81     10403.40    90.35    0.90\n",
      "  0     400        287.24      4498.35    91.68    0.92\n",
      "  0     600        223.27      3457.12    92.17    0.92\n",
      "  0     800        216.66      3466.54    92.58    0.93\n",
      "  0    1000        188.99      3014.80    92.64    0.93\n",
      "  0    1200        183.72      2925.52    92.87    0.93\n",
      "  0    1400        169.88      2738.49    92.96    0.93\n",
      "\u001b[38;5;2m✔ Saved pipeline to output directory\u001b[0m\n",
      "myPOStagger1/model-last\n"
     ]
    }
   ],
   "source": [
    "!python -m spacy train config.cfg \\\n",
    "  --output ./myPOStagger1 \\\n",
    "  --paths.train ./spacy_data/fr-ud-train.spacy \\\n",
    "  --paths.dev ./spacy_data/fr-ud-dev.spacy \\\n",
    "  --training.max_epochs 1 \\\n",
    "  --verbose"
   ]
  },
  {
   "cell_type": "code",
   "execution_count": 8,
   "metadata": {},
   "outputs": [
    {
     "name": "stdout",
     "output_type": "stream",
     "text": [
      "[2025-03-16 10:53:11,951] [DEBUG] Config overrides from CLI: ['paths.train', 'paths.dev', 'training.max_epochs']\n",
      "\u001b[38;5;4mℹ Saving to output directory: myPOStagger1\u001b[0m\n",
      "\u001b[38;5;4mℹ Using CPU\u001b[0m\n",
      "\u001b[1m\n",
      "=========================== Initializing pipeline ===========================\u001b[0m\n",
      "[2025-03-16 10:53:14,938] [INFO] Set up nlp object from config\n",
      "[2025-03-16 10:53:14,948] [DEBUG] Loading corpus from path: spacy_data/fr-ud-dev.spacy\n",
      "[2025-03-16 10:53:14,951] [DEBUG] Loading corpus from path: spacy_data/fr-ud-train.spacy\n",
      "[2025-03-16 10:53:14,951] [INFO] Pipeline: ['tok2vec', 'tagger']\n",
      "[2025-03-16 10:53:14,954] [INFO] Created vocabulary\n",
      "[2025-03-16 10:53:14,954] [INFO] Finished initializing nlp object\n",
      "[2025-03-16 10:53:29,308] [INFO] Initialized pipeline components: ['tok2vec', 'tagger']\n",
      "\u001b[38;5;2m✔ Initialized pipeline\u001b[0m\n",
      "\u001b[1m\n",
      "============================= Training pipeline =============================\u001b[0m\n",
      "[2025-03-16 10:53:29,318] [DEBUG] Loading corpus from path: spacy_data/fr-ud-dev.spacy\n",
      "[2025-03-16 10:53:29,319] [DEBUG] Loading corpus from path: spacy_data/fr-ud-train.spacy\n",
      "[2025-03-16 10:53:29,321] [DEBUG] Removed existing output directory: myPOStagger1/model-best\n",
      "[2025-03-16 10:53:29,322] [DEBUG] Removed existing output directory: myPOStagger1/model-last\n",
      "\u001b[38;5;4mℹ Pipeline: ['tok2vec', 'tagger']\u001b[0m\n",
      "\u001b[38;5;4mℹ Initial learn rate: 0.001\u001b[0m\n",
      "E    #       LOSS TOK2VEC  LOSS TAGGER  TAG_ACC  SCORE \n",
      "---  ------  ------------  -----------  -------  ------\n",
      "  0       0          0.00       211.77    36.34    0.36\n",
      "  0     200        315.81     10403.40    90.35    0.90\n",
      "  0     400        287.24      4498.35    91.68    0.92\n",
      "  0     600        223.27      3457.12    92.17    0.92\n",
      "  0     800        216.66      3466.54    92.58    0.93\n",
      "  0    1000        188.99      3014.80    92.64    0.93\n",
      "  0    1200        183.72      2925.52    92.87    0.93\n",
      "  0    1400        169.88      2738.49    92.96    0.93\n",
      "  1    1600        146.10      2228.05    93.12    0.93\n",
      "  1    1800        137.27      2021.47    93.15    0.93\n",
      "  1    2000        155.46      2302.74    93.22    0.93\n",
      "  1    2200        146.16      2144.53    93.20    0.93\n",
      "  1    2400        145.19      2130.08    93.34    0.93\n",
      "  1    2600        148.64      2145.79    93.26    0.93\n",
      "  1    2800        151.90      2182.06    93.48    0.93\n",
      "  2    3000        130.92      1828.43    93.36    0.93\n",
      "  2    3200        118.37      1544.93    93.24    0.93\n",
      "  2    3400        134.19      1754.76    93.59    0.94\n",
      "  2    3600        129.75      1648.07    93.54    0.94\n",
      "  2    3800        127.92      1595.35    93.46    0.93\n",
      "  2    4000        130.95      1659.99    93.49    0.93\n",
      "  2    4200        141.38      1752.30    93.49    0.93\n",
      "\u001b[38;5;2m✔ Saved pipeline to output directory\u001b[0m\n",
      "myPOStagger1/model-last\n"
     ]
    }
   ],
   "source": [
    "!python -m spacy train config.cfg \\\n",
    "  --output ./myPOStagger1 \\\n",
    "  --paths.train ./spacy_data/fr-ud-train.spacy \\\n",
    "  --paths.dev ./spacy_data/fr-ud-dev.spacy \\\n",
    "  --training.max_epochs 3 \\\n",
    "  --verbose"
   ]
  },
  {
   "cell_type": "code",
   "execution_count": null,
   "metadata": {},
   "outputs": [
    {
     "name": "stdout",
     "output_type": "stream",
     "text": [
      "[2025-03-16 10:58:35,083] [DEBUG] Config overrides from CLI: ['paths.train', 'paths.dev', 'training.max_epochs']\n",
      "\u001b[38;5;4mℹ Saving to output directory: myPOStagger1\u001b[0m\n",
      "\u001b[38;5;4mℹ Using CPU\u001b[0m\n",
      "\u001b[1m\n",
      "=========================== Initializing pipeline ===========================\u001b[0m\n",
      "[2025-03-16 10:58:40,402] [INFO] Set up nlp object from config\n",
      "[2025-03-16 10:58:40,417] [DEBUG] Loading corpus from path: spacy_data/fr-ud-dev.spacy\n",
      "[2025-03-16 10:58:40,420] [DEBUG] Loading corpus from path: spacy_data/fr-ud-train.spacy\n",
      "[2025-03-16 10:58:40,420] [INFO] Pipeline: ['tok2vec', 'tagger']\n",
      "[2025-03-16 10:58:40,425] [INFO] Created vocabulary\n",
      "[2025-03-16 10:58:40,425] [INFO] Finished initializing nlp object\n",
      "[2025-03-16 10:59:03,770] [INFO] Initialized pipeline components: ['tok2vec', 'tagger']\n",
      "\u001b[38;5;2m✔ Initialized pipeline\u001b[0m\n",
      "\u001b[1m\n",
      "============================= Training pipeline =============================\u001b[0m\n",
      "[2025-03-16 10:59:03,787] [DEBUG] Loading corpus from path: spacy_data/fr-ud-dev.spacy\n",
      "[2025-03-16 10:59:03,790] [DEBUG] Loading corpus from path: spacy_data/fr-ud-train.spacy\n",
      "[2025-03-16 10:59:03,792] [DEBUG] Removed existing output directory: myPOStagger1/model-best\n",
      "[2025-03-16 10:59:03,795] [DEBUG] Removed existing output directory: myPOStagger1/model-last\n",
      "\u001b[38;5;4mℹ Pipeline: ['tok2vec', 'tagger']\u001b[0m\n",
      "\u001b[38;5;4mℹ Initial learn rate: 0.001\u001b[0m\n",
      "E    #       LOSS TOK2VEC  LOSS TAGGER  TAG_ACC  SCORE \n",
      "---  ------  ------------  -----------  -------  ------\n",
      "  0       0          0.00       211.77    36.34    0.36\n",
      "  0     200        315.81     10403.40    90.35    0.90\n",
      "  0     400        287.24      4498.35    91.68    0.92\n",
      "  0     600        223.27      3457.12    92.17    0.92\n",
      "  0     800        216.66      3466.54    92.58    0.93\n",
      "  0    1000        188.99      3014.80    92.64    0.93\n",
      "  0    1200        183.72      2925.52    92.87    0.93\n",
      "  0    1400        169.88      2738.49    92.96    0.93\n",
      "  1    1600        146.10      2228.05    93.12    0.93\n",
      "  1    1800        137.27      2021.47    93.15    0.93\n",
      "  1    2000        155.46      2302.74    93.22    0.93\n",
      "  1    2200        146.16      2144.53    93.20    0.93\n",
      "  1    2400        145.19      2130.08    93.34    0.93\n",
      "  1    2600        148.64      2145.79    93.26    0.93\n",
      "  1    2800        151.90      2182.06    93.48    0.93\n",
      "  2    3000        130.92      1828.43    93.36    0.93\n",
      "  2    3200        118.37      1544.93    93.24    0.93\n",
      "  2    3400        134.19      1754.76    93.59    0.94\n",
      "  2    3600        129.75      1648.07    93.54    0.94\n",
      "  2    3800        127.92      1595.35    93.46    0.93\n",
      "  2    4000        130.95      1659.99    93.49    0.93\n"
     ]
    }
   ],
   "source": [
    "!python -m spacy train config.cfg \\\n",
    "  --output ./myPOStagger1 \\\n",
    "  --paths.train ./spacy_data/fr-ud-train.spacy \\\n",
    "  --paths.dev ./spacy_data/fr-ud-dev.spacy \\\n",
    "  --training.max_epochs 4 \\\n",
    "  --verbose"
   ]
  },
  {
   "cell_type": "code",
   "execution_count": null,
   "metadata": {},
   "outputs": [],
   "source": [
    "!python -m spacy train config.cfg \\\n",
    "  --output ./myPOStagger1 \\\n",
    "  --paths.train ./spacy_data/fr-ud-train.spacy \\\n",
    "  --paths.dev ./spacy_data/fr-ud-dev.spacy \\\n",
    "  --training.max_epochs 5 \\\n",
    "  --verbose"
   ]
  },
  {
   "cell_type": "code",
   "execution_count": null,
   "metadata": {},
   "outputs": [
    {
     "name": "stdout",
     "output_type": "stream",
     "text": [
      "[2025-03-15 20:55:02,027] [DEBUG] Config overrides from CLI: ['paths.train', 'paths.dev']\n",
      "\u001b[38;5;4mℹ Saving to output directory: myPOStagger1\u001b[0m\n",
      "\u001b[38;5;4mℹ Using CPU\u001b[0m\n",
      "\u001b[1m\n",
      "=========================== Initializing pipeline ===========================\u001b[0m\n",
      "[2025-03-15 20:55:06,725] [INFO] Set up nlp object from config\n",
      "[2025-03-15 20:55:06,745] [DEBUG] Loading corpus from path: spacy_data/fr-ud-dev.spacy\n",
      "[2025-03-15 20:55:06,748] [DEBUG] Loading corpus from path: spacy_data/fr-ud-train.spacy\n",
      "[2025-03-15 20:55:06,748] [INFO] Pipeline: ['tok2vec', 'tagger']\n",
      "[2025-03-15 20:55:06,753] [INFO] Created vocabulary\n",
      "[2025-03-15 20:55:06,753] [INFO] Finished initializing nlp object\n",
      "[2025-03-15 20:55:29,590] [INFO] Initialized pipeline components: ['tok2vec', 'tagger']\n",
      "\u001b[38;5;2m✔ Initialized pipeline\u001b[0m\n",
      "\u001b[1m\n",
      "============================= Training pipeline =============================\u001b[0m\n",
      "[2025-03-15 20:55:29,608] [DEBUG] Loading corpus from path: spacy_data/fr-ud-dev.spacy\n",
      "[2025-03-15 20:55:29,610] [DEBUG] Loading corpus from path: spacy_data/fr-ud-train.spacy\n",
      "[2025-03-15 20:55:29,613] [DEBUG] Removed existing output directory: myPOStagger1/model-best\n",
      "[2025-03-15 20:55:29,616] [DEBUG] Removed existing output directory: myPOStagger1/model-last\n",
      "\u001b[38;5;4mℹ Pipeline: ['tok2vec', 'tagger']\u001b[0m\n",
      "\u001b[38;5;4mℹ Initial learn rate: 0.001\u001b[0m\n",
      "E    #       LOSS TOK2VEC  LOSS TAGGER  TAG_ACC  SCORE \n",
      "---  ------  ------------  -----------  -------  ------\n",
      "  0       0          0.00       211.77    36.34    0.36\n",
      "  0     200        315.81     10403.40    90.35    0.90\n",
      "  0     400        287.24      4498.35    91.68    0.92\n",
      "  0     600        223.27      3457.12    92.17    0.92\n",
      "  0     800        216.66      3466.54    92.58    0.93\n",
      "  0    1000        188.99      3014.80    92.64    0.93\n",
      "  0    1200        183.72      2925.52    92.87    0.93\n",
      "  0    1400        169.88      2738.49    92.96    0.93\n",
      "  1    1600        146.10      2228.05    93.12    0.93\n",
      "  1    1800        137.27      2021.47    93.15    0.93\n",
      "  1    2000        155.46      2302.74    93.22    0.93\n",
      "  1    2200        146.16      2144.53    93.20    0.93\n",
      "  1    2400        145.19      2130.08    93.34    0.93\n",
      "  1    2600        148.64      2145.79    93.26    0.93\n",
      "  1    2800        151.90      2182.06    93.48    0.93\n",
      "  2    3000        130.92      1828.43    93.36    0.93\n",
      "  2    3200        118.37      1544.93    93.24    0.93\n",
      "  2    3400        134.19      1754.76    93.59    0.94\n",
      "  2    3600        129.75      1648.07    93.54    0.94\n",
      "  2    3800        127.92      1595.35    93.46    0.93\n",
      "  2    4000        130.95      1659.99    93.49    0.93\n",
      "  2    4200        141.38      1752.30    93.49    0.93\n",
      "  3    4400        137.97      1693.16    93.60    0.94\n",
      "  3    4600         99.78      1154.01    93.56    0.94\n",
      "  3    4800        116.32      1328.23    93.53    0.94\n",
      "  3    5000        126.16      1441.73    93.54    0.94\n",
      "  3    5200        122.34      1390.52    93.55    0.94\n",
      "  3    5400        126.36      1426.25    93.58    0.94\n",
      "  3    5600        125.53      1391.32    93.68    0.94\n",
      "  3    5800        128.76      1415.19    93.65    0.94\n",
      "  4    6000        111.07      1176.00    93.58    0.94\n",
      "  4    6200        103.59      1058.76    93.56    0.94\n",
      "  4    6400        110.98      1117.10    93.63    0.94\n",
      "  4    6600        121.88      1221.76    93.62    0.94\n",
      "  4    6800        122.37      1228.49    93.68    0.94\n",
      "  4    7000        125.03      1252.18    93.65    0.94\n",
      "  4    7200        113.16      1122.13    93.59    0.94\n",
      "\u001b[38;5;2m✔ Saved pipeline to output directory\u001b[0m\n",
      "myPOStagger1/model-last\n"
     ]
    }
   ],
   "source": [
    "!python -m spacy train config.cfg \\\n",
    "  --output ./myPOStagger1 \\\n",
    "  --paths.train ./spacy_data/fr-ud-train.spacy \\\n",
    "  --paths.dev ./spacy_data/fr-ud-dev.spacy \\\n",
    "  --verbose\n"
   ]
  },
  {
   "cell_type": "code",
   "execution_count": null,
   "metadata": {},
   "outputs": [],
   "source": [
    "# Veuillez indiquer ici le nombre d'époques final et la réponse à la question.\n",
    "# Le meilleur modèle se trouve dans myPOStagger1/model-best\n",
    "# Le nombre d'époques final est 4.\n",
    "# Pour savoir si suffisamment d'époques ont été effectuées est l'absence d'amélioration ou la stagnation de la précision."
   ]
  },
  {
   "cell_type": "markdown",
   "metadata": {},
   "source": [
    "**4b.**  Veuillez charger le meilleur modèle (pipeline) dans la variable `nlp2` et afficher la *POS tagging accuracy* sur le corpus de test.  Le composant de la pipeline étant un *POS tagger*, vous devrez évaluer la propriété *tag_acc*. "
   ]
  },
  {
   "cell_type": "code",
   "execution_count": null,
   "metadata": {},
   "outputs": [
    {
     "name": "stdout",
     "output_type": "stream",
     "text": [
      "Précision du POS tagging sur l'ensemble des documents : 93.36%\n"
     ]
    }
   ],
   "source": [
    "# Veuillez écrire votre code ici.\n",
    "nlp_best = spacy.load(\"./myPOStagger1/model-best\")\n",
    "score_pos_docs_best = scorer.score([\n",
    "    Example(nlp_best(doc.text), doc) for doc in test_data.get_docs(nlp.vocab)\n",
    "])\n",
    "\n",
    "print(f\"Précision du POS tagging sur l'ensemble des documents : {score_pos_docs_best.get('tag_acc'):.2%}\")\n"
   ]
  },
  {
   "cell_type": "code",
   "execution_count": 95,
   "metadata": {},
   "outputs": [],
   "source": [
    "# On a une précision de 93.36% sur l'ensemble des documents."
   ]
  },
  {
   "cell_type": "markdown",
   "metadata": {},
   "source": [
    "## 5. Entraîner puis évaluer un POS tagger pour le français dans NLTK\n",
    "\n",
    "Le but de cette partie est d'utiliser le POS tagger appelé *Averaged Perceptron* fourni par NLTK, en l'entraînant pour le français sur les mêmes données que ci-dessus, importées cette fois-ci avec NLTK.  Pour une introduction au POS tagging avec NLTK, voir le [Chapitre 5.1 du livre NLTK](http://www.nltk.org/book/ch05.html).\n",
    "\n",
    "Remarques :\n",
    "* pour l'anglais, des taggers pré-entraînés sont disponibles dans NLTK ;\n",
    "* pour appliquer un tagger existant, on écrit `nltk.pos_tag(sentence)` où `sentence` est une liste de tokens et on obtient des paires (token, TAG) ;\n",
    "* l'implémentation de *Averaged Perceptron* a été faite par [Mathew Honnibal de Explosion.AI](https://explosion.ai/blog/part-of-speech-pos-tagger-in-python), la société qui a créé spaCy."
   ]
  },
  {
   "cell_type": "markdown",
   "metadata": {},
   "source": [
    "**5a.** Veuillez charger les données d'entraînement et celles de test grâce à la classe `ConllCorpusReader` de NLTK.  [La documentation de cette classe](https://www.nltk.org/api/nltk.corpus.reader.conll.html#nltk.corpus.reader.conll.ConllCorpusReader) vous montrera comment indiquer les colonnes qui contiennent les tokens ('words') et les tags corrects ('pos').  Une fois les données chargées dans une variable, vous pouvez accéder aux phrases et aux tags avec la méthode `.tagged_sents()`."
   ]
  },
  {
   "cell_type": "code",
   "execution_count": 108,
   "metadata": {},
   "outputs": [],
   "source": [
    "from nltk.corpus.reader.conll import ConllCorpusReader"
   ]
  },
  {
   "cell_type": "code",
   "execution_count": 109,
   "metadata": {},
   "outputs": [
    {
     "name": "stdout",
     "output_type": "stream",
     "text": [
      "Nombre de phrases dans le jeu de données d'entraînement : 14554\n",
      "Nombre de phrases dans le jeu de données de test : 416\n",
      "Première phrase du jeu de données d'entraînement : [('Les', 'DET'), ('commotions', 'NOUN'), ('cérébrales', 'ADJ'), ('sont', 'AUX'), ('devenu', 'VERB'), ('si', 'ADV'), ('courantes', 'ADJ'), ('dans', 'ADP'), ('ce', 'DET'), ('sport', 'NOUN'), (\"qu'\", 'SCONJ'), ('on', 'PRON'), ('les', 'PRON'), ('considére', 'VERB'), ('presque', 'ADV'), ('comme', 'ADP'), ('la', 'DET'), ('routine', 'NOUN'), ('.', 'PUNCT')]\n"
     ]
    }
   ],
   "source": [
    "# Veuillez écrire votre code ici.\n",
    "train_reader = ConllCorpusReader(\"./input_data\", \"fr-ud-train.conllu\", (\"ignore\", \"words\", \"ignore\", \"pos\"), separator=\"\\t\")\n",
    "test_reader = ConllCorpusReader(\"./input_data\", \"fr-ud-test.conllu\", (\"ignore\", \"words\", \"ignore\", \"pos\"), separator=\"\\t\")\n",
    "train_sents = train_reader.tagged_sents()\n",
    "test_sents = test_reader.tagged_sents()\n",
    "\n",
    "print(f\"Nombre de phrases dans le jeu de données d'entraînement : {len(train_sents)}\")\n",
    "print(f\"Nombre de phrases dans le jeu de données de test : {len(test_sents)}\")\n",
    "\n",
    "# Veuillez écrire votre code ici.\n",
    "\n",
    "print(f\"Première phrase du jeu de données d'entraînement : {train_sents[0]}\")\n"
   ]
  },
  {
   "cell_type": "markdown",
   "metadata": {},
   "source": [
    "**5b.** Pour entraîner un POS tagger du type Averaged Perceptron, vous utiliserez le sous-module `nltk.tag.perceptron` du [module NLTK contenant les taggers](http://www.nltk.org/api/nltk.tag.html).  Les fonctions d'entraînement et de test sont documentées dans ce module.  Après l'entraînement, le réseau de neurones est enregistré dans un fichier `.pickle`, qui est écrasé à chaque entraînement si vous n'en faites pas une copie.  On peut également lire un fichier `.pickle` dans un tagger.\n",
    "\n",
    "Veuillez écrire le code pour entraîner le POS tagger sur les données d'entraînement.  Comme au (4), pensez augmenter graduellement le nombre d'époques (appelées 'itérations' dans NLTK).\n",
    "\n",
    "Combien de temps prend l'entraînement ?  Quelle est la taille du fichier enregistré ?"
   ]
  },
  {
   "cell_type": "code",
   "execution_count": 128,
   "metadata": {},
   "outputs": [],
   "source": [
    "import os\n",
    "import nltk\n",
    "#nltk.download('averaged_perceptron_tagger') # à exécuter la première fois\n",
    "from perceptron_patched import PerceptronTagger"
   ]
  },
  {
   "cell_type": "code",
   "execution_count": 129,
   "metadata": {},
   "outputs": [],
   "source": [
    "ptagger = PerceptronTagger(load=False)"
   ]
  },
  {
   "cell_type": "code",
   "execution_count": null,
   "metadata": {},
   "outputs": [],
   "source": [
    "import time \n",
    "import os\n",
    "\n",
    "os.makedirs(\"./ptaggerOutput\", exist_ok=True)\n",
    "\n",
    "nbIteration = [2,3,5,10,20]\n",
    "\n",
    "for it in nbIteration:\n",
    "    start_time = time.time()\n",
    "    model_path = f\"./ptaggerOutput/ptaggermodel-{it}.pickle\"\n",
    "    \n",
    "    ptagger.train(train_sents, save_loc=model_path, nr_iter=it) \n",
    "\n",
    "    training_time = time.time() - start_time\n",
    "    print(f\"Temps d'entraînement pour {it} epochs: {training_time:.2f} secondes\")\n",
    "    \n",
    "    file_size_bytes = os.path.getsize(model_path + \"_averaged_perceptron_tagger.xxx.classes.json\")\n",
    "    file_size_bytes += os.path.getsize(model_path + \"_averaged_perceptron_tagger.xxx.tagdict.json\")\n",
    "    file_size_bytes += os.path.getsize(model_path + \"_averaged_perceptron_tagger.xxx.weights.json\")\n",
    "    file_size_mb = file_size_bytes / (1024 * 1024) \n",
    "    print(f\"Taille des fichiers pour {it} epochs: {file_size_mb:.2f} MB\")\n",
    "\n",
    "# Temps d'entraînement pour 2 epochs: 9.67 secondes\n",
    "# Taille des fichiers pour 2 epochs: 4.48 MB\n",
    "# Temps d'entraînement pour 3 epochs: 12.41 secondes\n",
    "# Taille des fichiers pour 3 epochs: 5.69 MB\n",
    "# Temps d'entraînement pour 5 epochs: 19.71 secondes\n",
    "# Taille des fichiers pour 5 epochs: 6.52 MB\n",
    "# Temps d'entraînement pour 10 epochs: 38.37 secondes\n",
    "# Taille des fichiers pour 10 epochs: 7.16 MB\n",
    "# Temps d'entraînement pour 20 epochs: 80.25 secondes\n",
    "# Taille des fichiers pour 20 epochs: 7.60 MB"
   ]
  },
  {
   "cell_type": "markdown",
   "metadata": {},
   "source": [
    "**5c.** Veuillez évaluer le tagger sur les données de test et afficher le taux de correction."
   ]
  },
  {
   "cell_type": "code",
   "execution_count": null,
   "metadata": {},
   "outputs": [
    {
     "name": "stdout",
     "output_type": "stream",
     "text": [
      "Précision du POS tagging sur le jeu de données de test : 95.90%\n"
     ]
    }
   ],
   "source": [
    "# Veuillez écrire votre code ici.\n",
    "for it in nbIteration:\n",
    "    model_path = f\"./ptaggerOutput/ptaggermodel-{it}.pickle\"\n",
    "    \n",
    "    # Load the model\n",
    "    tagger = PerceptronTagger(load=False)\n",
    "    tagger.load_from_json(model_path)\n",
    "    \n",
    "    # Calculate accuracy on test data\n",
    "    accuracy = tagger.accuracy(test_sents)\n",
    "    \n",
    "    print(f\"Modèle pour {it} epochs:\")\n",
    "    print(f\"Precision du POS sur les données de test : {accuracy:.2%}\")\n",
    "\n",
    "# Modèle pour 2 epochs:\n",
    "# Precision du POS sur les données de test : 95.67%\n",
    "# Modèle pour 3 epochs:\n",
    "# Precision du POS sur les données de test : 95.75%\n",
    "# Modèle pour 5 epochs:\n",
    "# Precision du POS sur les données de test : 95.92%\n",
    "# Modèle pour 10 epochs:\n",
    "# Precision du POS sur les données de test : 95.95%\n",
    "# Modèle pour 20 epochs:\n",
    "# Precision du POS sur les données de test : 96.06%"
   ]
  },
  {
   "cell_type": "markdown",
   "metadata": {},
   "source": [
    "## 6. Conclusion\n",
    "\n",
    "Veuillez remplir le tableau suivant avec les scores obtenus et discuter brièvement comment se comparent les trois POS taggers sur ces données de test.\n",
    "\n",
    "| spaCy (partie 3) | spaCy (partie 4) | NLTK (partie 5) | \n",
    "|------------------|------------------|-----------------|\n",
    "| tagger fourni    | tagger entraîné  | tagger entraîné |\n",
    "| 91.77%             | 93.36%              | 95.90%             |\n"
   ]
  },
  {
   "cell_type": "code",
   "execution_count": null,
   "metadata": {},
   "outputs": [],
   "source": [
    "# Veuillez écrire votre réponse ici.\n",
    "# NLTK est plus rapide à entraîner que spaCy et plus précis également.\n",
    "# Etant donné le tagger de spaCy (partie 3) est plus généraliste, on peut supposer qu'il est normal qu'il soit moins précis que nos taggers\n",
    "# entrainés chez nous. Cependant, il est plus rapide utiliser."
   ]
  },
  {
   "cell_type": "markdown",
   "metadata": {},
   "source": [
    "**Fin du Labo.** Veuillez nettoyer ce notebook en gardant seulement les résultats désirés, l'enregistrer, et le soumettre comme devoir sur Cyberlearn."
   ]
  }
 ],
 "metadata": {
  "kernelspec": {
   "display_name": "CoursTAL",
   "language": "python",
   "name": "python3"
  },
  "language_info": {
   "codemirror_mode": {
    "name": "ipython",
    "version": 3
   },
   "file_extension": ".py",
   "mimetype": "text/x-python",
   "name": "python",
   "nbconvert_exporter": "python",
   "pygments_lexer": "ipython3",
   "version": "3.11.11"
  }
 },
 "nbformat": 4,
 "nbformat_minor": 4
}
